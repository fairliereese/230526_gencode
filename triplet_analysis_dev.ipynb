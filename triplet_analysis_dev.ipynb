{
 "cells": [
  {
   "cell_type": "code",
   "execution_count": 81,
   "id": "3e29be99-cc32-49a5-ae1b-baca84a179c1",
   "metadata": {},
   "outputs": [],
   "source": [
    "from snakemake.io import expand\n",
    "import pandas as pd\n",
    "import yaml\n",
    "import pdb\n",
    "import re\n",
    "import numpy as np\n",
    "import pyranges as pr\n",
    "import cerberus\n",
    "import seaborn as sns\n",
    "from utils import *"
   ]
  },
  {
   "cell_type": "code",
   "execution_count": 82,
   "id": "cda1c65c-2615-4612-ba69-976c7a78d84b",
   "metadata": {},
   "outputs": [],
   "source": [
    "config_file = 'config.yml'\n",
    "with open(config_file) as f:\n",
    "    config = yaml.safe_load(f)"
   ]
  },
  {
   "cell_type": "code",
   "execution_count": 87,
   "id": "9a78cf9b-7d5c-43bf-b145-b1991bc45e29",
   "metadata": {},
   "outputs": [],
   "source": [
    "h5 = expand(config['data']['cerb']['ca_trip'], zip, species='human')[0]\n",
    "ab = expand(config['data']['cerb']['agg_ab'], zip, species='human')[0]\n",
    "meta = expand(config['data']['meta'], zip, species='human')[0]"
   ]
  },
  {
   "cell_type": "code",
   "execution_count": 99,
   "id": "968c5913-109d-4cf1-986f-3b0924e1584c",
   "metadata": {},
   "outputs": [],
   "source": [
    "ca = cerberus.read(h5)"
   ]
  },
  {
   "cell_type": "code",
   "execution_count": 100,
   "id": "beb152d1-d3a3-414e-92b3-0adadfa6e9a8",
   "metadata": {},
   "outputs": [],
   "source": [
    "# temp = ca.triplets.loc[ca.triplets.source=='iPSC_Embryo_pacBioSII_post-capture_human_all']\n",
    "# len(temp.index)"
   ]
  },
  {
   "cell_type": "code",
   "execution_count": 101,
   "id": "fba182cc-1471-41f3-8ec8-47283ac2a56c",
   "metadata": {},
   "outputs": [],
   "source": [
    "# df = pd.read_csv(ab, sep='\\t')\n",
    "# df.fillna(0, inplace=True)\n",
    "# df['gene_id'] = df.annot_transcript_id.str.split('[', expand=True)[0]\n",
    "# df.drop(['annot_transcript_id', 'annot_transcript_name'], axis=1, inplace=True)\n",
    "# print(len(df.index))"
   ]
  },
  {
   "cell_type": "code",
   "execution_count": 102,
   "id": "76c865ac-ee00-4a0f-a8bb-12fb7cd8ed49",
   "metadata": {},
   "outputs": [],
   "source": [
    "# source = 'iPSC_Embryo_pacBioSII_post-capture_human_all'\n",
    "# temp = df[[source]]\n",
    "# df = df.sort_values(by=source,ascending=True)\n",
    "# df = df.loc[df[source]>0]\n",
    "# df['x_ind'] = [i for i in range(len(df.index))]\n",
    "# sns.scatterplot(data=df, x='x_ind', y=source)\n",
    "# len(temp.loc[temp[source]>=1])\n",
    "# # temp"
   ]
  },
  {
   "cell_type": "code",
   "execution_count": 103,
   "id": "16789f24-f73c-4aca-92d5-017ff4219092",
   "metadata": {},
   "outputs": [
    {
     "name": "stdout",
     "output_type": "stream",
     "text": [
      "480019\n",
      "32909\n",
      "0\n"
     ]
    },
    {
     "data": {
      "image/png": "[encoded data removed]",
      "text/plain": [
       "<Figure size 360x360 with 1 Axes>"
      ]
     },
     "metadata": {
      "needs_background": "light"
     },
     "output_type": "display_data"
    }
   ],
   "source": [
    "# add gene TPMs\n",
    "df = pd.read_csv(ab, sep='\\t')\n",
    "df.fillna(0, inplace=True)\n",
    "df['gene_id'] = df.annot_transcript_id.str.split('[', expand=True)[0]\n",
    "df.drop(['annot_transcript_id', 'annot_transcript_name'], axis=1, inplace=True)\n",
    "print(len(df.index))\n",
    "\n",
    "# sum up \n",
    "df = df.groupby('gene_id').sum()\n",
    "print(len(df.index))\n",
    "df = df.melt(ignore_index=False, var_name='source', value_name='gene_tpm').reset_index()\n",
    "\n",
    "temp = ca.triplets[['source', 'gene_id']]\n",
    "temp = temp.groupby('source').count().reset_index().rename({'gene_id':'n_genes'}, axis=1)\n",
    "sns.catplot(temp, x='source', y='n_genes')\n",
    "\n",
    "ca.triplets = ca.triplets.merge(df, how='left', on=['gene_id', 'source'])\n",
    "print(len(ca.triplets.loc[ca.triplets.gene_tpm.isnull()]))\n",
    "\n",
    "ca.write('ca_trip_tpm.h5')"
   ]
  },
  {
   "cell_type": "code",
   "execution_count": 104,
   "id": "50ef000e-3f45-4cfb-b261-206e8e1b82ed",
   "metadata": {},
   "outputs": [
    {
     "data": {
      "text/plain": [
       "48"
      ]
     },
     "execution_count": 104,
     "metadata": {},
     "output_type": "execute_result"
    }
   ],
   "source": [
    "len(ca.triplets.source.unique())"
   ]
  },
  {
   "cell_type": "code",
   "execution_count": 105,
   "id": "ed273aa2-a7b2-4337-818f-ae1a34bdc129",
   "metadata": {},
   "outputs": [],
   "source": [
    "# add in the metadata\n",
    "config_fname = '230614_config.tsv'\n",
    "df = parse_input_config(config, config_fname, 'all')\n",
    "df = df.loc[df.species == 'human']\n",
    "df.rename({'dataset':'source'}, axis=1, inplace=True)"
   ]
  },
  {
   "cell_type": "code",
   "execution_count": 106,
   "id": "a72f4a77-485f-4223-bce7-e5132c5f46ba",
   "metadata": {},
   "outputs": [
    {
     "data": {
      "text/plain": [
       "48"
      ]
     },
     "execution_count": 106,
     "metadata": {},
     "output_type": "execute_result"
    }
   ],
   "source": [
    "len(df.index)"
   ]
  },
  {
   "cell_type": "code",
   "execution_count": 107,
   "id": "0eddef40-1665-4f7a-991d-8c7449f78b4e",
   "metadata": {},
   "outputs": [
    {
     "data": {
      "text/html": [
       "<div>\n",
       "<style scoped>\n",
       "    .dataframe tbody tr th:only-of-type {\n",
       "        vertical-align: middle;\n",
       "    }\n",
       "\n",
       "    .dataframe tbody tr th {\n",
       "        vertical-align: top;\n",
       "    }\n",
       "\n",
       "    .dataframe thead th {\n",
       "        text-align: right;\n",
       "    }\n",
       "</style>\n",
       "<table border=\"1\" class=\"dataframe\">\n",
       "  <thead>\n",
       "    <tr style=\"text-align: right;\">\n",
       "      <th></th>\n",
       "      <th>source</th>\n",
       "      <th>gene_id</th>\n",
       "      <th>n_iso</th>\n",
       "      <th>n_tss</th>\n",
       "      <th>n_ic</th>\n",
       "      <th>n_tes</th>\n",
       "      <th>splicing_ratio</th>\n",
       "      <th>tss_ratio</th>\n",
       "      <th>tes_ratio</th>\n",
       "      <th>spl_ratio</th>\n",
       "      <th>sector</th>\n",
       "      <th>gene_tpm</th>\n",
       "    </tr>\n",
       "  </thead>\n",
       "  <tbody>\n",
       "    <tr>\n",
       "      <th>0</th>\n",
       "      <td>Brain_Adult_ont_post-capture_human_all</td>\n",
       "      <td>ENSG00000000419</td>\n",
       "      <td>2.0</td>\n",
       "      <td>1.0</td>\n",
       "      <td>2.0</td>\n",
       "      <td>1.0</td>\n",
       "      <td>2.000000</td>\n",
       "      <td>0.250000</td>\n",
       "      <td>0.250000</td>\n",
       "      <td>0.500000</td>\n",
       "      <td>mixed</td>\n",
       "      <td>29.775390</td>\n",
       "    </tr>\n",
       "    <tr>\n",
       "      <th>1</th>\n",
       "      <td>Brain_Adult_ont_post-capture_human_all</td>\n",
       "      <td>ENSG00000001084</td>\n",
       "      <td>1.0</td>\n",
       "      <td>1.0</td>\n",
       "      <td>1.0</td>\n",
       "      <td>1.0</td>\n",
       "      <td>1.000000</td>\n",
       "      <td>0.333333</td>\n",
       "      <td>0.333333</td>\n",
       "      <td>0.333333</td>\n",
       "      <td>simple</td>\n",
       "      <td>24.812825</td>\n",
       "    </tr>\n",
       "    <tr>\n",
       "      <th>2</th>\n",
       "      <td>Brain_Adult_ont_post-capture_human_all</td>\n",
       "      <td>ENSG00000001630</td>\n",
       "      <td>7.0</td>\n",
       "      <td>2.0</td>\n",
       "      <td>7.0</td>\n",
       "      <td>6.0</td>\n",
       "      <td>1.750000</td>\n",
       "      <td>0.205128</td>\n",
       "      <td>0.615385</td>\n",
       "      <td>0.179487</td>\n",
       "      <td>tes</td>\n",
       "      <td>143.914385</td>\n",
       "    </tr>\n",
       "    <tr>\n",
       "      <th>3</th>\n",
       "      <td>Brain_Adult_ont_post-capture_human_all</td>\n",
       "      <td>ENSG00000002330</td>\n",
       "      <td>4.0</td>\n",
       "      <td>2.0</td>\n",
       "      <td>4.0</td>\n",
       "      <td>2.0</td>\n",
       "      <td>2.000000</td>\n",
       "      <td>0.333333</td>\n",
       "      <td>0.333333</td>\n",
       "      <td>0.333333</td>\n",
       "      <td>mixed</td>\n",
       "      <td>223.315425</td>\n",
       "    </tr>\n",
       "    <tr>\n",
       "      <th>4</th>\n",
       "      <td>Brain_Adult_ont_post-capture_human_all</td>\n",
       "      <td>ENSG00000002586</td>\n",
       "      <td>4.0</td>\n",
       "      <td>2.0</td>\n",
       "      <td>4.0</td>\n",
       "      <td>1.0</td>\n",
       "      <td>2.666667</td>\n",
       "      <td>0.352941</td>\n",
       "      <td>0.176471</td>\n",
       "      <td>0.470588</td>\n",
       "      <td>mixed</td>\n",
       "      <td>133.989255</td>\n",
       "    </tr>\n",
       "  </tbody>\n",
       "</table>\n",
       "</div>"
      ],
      "text/plain": [
       "                                   source          gene_id  n_iso  n_tss  \\\n",
       "0  Brain_Adult_ont_post-capture_human_all  ENSG00000000419    2.0    1.0   \n",
       "1  Brain_Adult_ont_post-capture_human_all  ENSG00000001084    1.0    1.0   \n",
       "2  Brain_Adult_ont_post-capture_human_all  ENSG00000001630    7.0    2.0   \n",
       "3  Brain_Adult_ont_post-capture_human_all  ENSG00000002330    4.0    2.0   \n",
       "4  Brain_Adult_ont_post-capture_human_all  ENSG00000002586    4.0    2.0   \n",
       "\n",
       "   n_ic  n_tes  splicing_ratio  tss_ratio  tes_ratio  spl_ratio  sector  \\\n",
       "0   2.0    1.0        2.000000   0.250000   0.250000   0.500000   mixed   \n",
       "1   1.0    1.0        1.000000   0.333333   0.333333   0.333333  simple   \n",
       "2   7.0    6.0        1.750000   0.205128   0.615385   0.179487     tes   \n",
       "3   4.0    2.0        2.000000   0.333333   0.333333   0.333333   mixed   \n",
       "4   4.0    1.0        2.666667   0.352941   0.176471   0.470588   mixed   \n",
       "\n",
       "     gene_tpm  \n",
       "0   29.775390  \n",
       "1   24.812825  \n",
       "2  143.914385  \n",
       "3  223.315425  \n",
       "4  133.989255  "
      ]
     },
     "execution_count": 107,
     "metadata": {},
     "output_type": "execute_result"
    }
   ],
   "source": [
    "ca.triplets.head()"
   ]
  },
  {
   "cell_type": "code",
   "execution_count": 108,
   "id": "388cfe0d-9f92-49ef-a49c-76802a048243",
   "metadata": {},
   "outputs": [
    {
     "name": "stdout",
     "output_type": "stream",
     "text": [
      "438040\n",
      "438040\n"
     ]
    }
   ],
   "source": [
    "print(len(ca.triplets.index))\n",
    "ca.triplets = ca.triplets.merge(df, how='left', on='source')\n",
    "print(len(ca.triplets.index))"
   ]
  },
  {
   "cell_type": "code",
   "execution_count": 110,
   "id": "9a081482-1038-4dc3-a9d4-90f54c2511a4",
   "metadata": {},
   "outputs": [],
   "source": [
    "temp = ca.triplets[['source', 'gene_id']]\n",
    "temp = temp.groupby('source').count().reset_index().rename({'gene_id':'n_genes'}, axis=1)"
   ]
  },
  {
   "cell_type": "code",
   "execution_count": 111,
   "id": "382cfb7b-3ea9-4100-8540-4fabaa4f8e26",
   "metadata": {},
   "outputs": [
    {
     "data": {
      "text/plain": [
       "<seaborn.axisgrid.FacetGrid at 0x7fe419bbb490>"
      ]
     },
     "execution_count": 111,
     "metadata": {},
     "output_type": "execute_result"
    },
    {
     "data": {
      "image/png": "[encoded data removed]",
      "text/plain": [
       "<Figure size 360x360 with 1 Axes>"
      ]
     },
     "metadata": {
      "needs_background": "light"
     },
     "output_type": "display_data"
    }
   ],
   "source": [
    "import seaborn as sns\n",
    "sns.catplot(temp, x='source', y='n_genes')"
   ]
  },
  {
   "cell_type": "code",
   "execution_count": 114,
   "id": "9c06dde8-b176-46d2-ab52-4d9ce2cbfb2d",
   "metadata": {},
   "outputs": [],
   "source": [
    "ca.write('ca_trip_tpm_meta.h5')"
   ]
  },
  {
   "cell_type": "markdown",
   "id": "b4507510-2ccf-4f10-b4cf-4f49907000fb",
   "metadata": {},
   "source": [
    "## Perform the comparisons we want to make"
   ]
  },
  {
   "cell_type": "code",
   "execution_count": 115,
   "id": "484ed58b-2774-421d-9350-f081e3dfb20f",
   "metadata": {},
   "outputs": [],
   "source": [
    "ca = cerberus.read('ca_trip_tpm_meta.h5')"
   ]
  },
  {
   "cell_type": "code",
   "execution_count": 118,
   "id": "1a50789f-bc54-427d-9c92-b8b28dcef067",
   "metadata": {},
   "outputs": [
    {
     "data": {
      "text/html": [
       "<div>\n",
       "<style scoped>\n",
       "    .dataframe tbody tr th:only-of-type {\n",
       "        vertical-align: middle;\n",
       "    }\n",
       "\n",
       "    .dataframe tbody tr th {\n",
       "        vertical-align: top;\n",
       "    }\n",
       "\n",
       "    .dataframe thead th {\n",
       "        text-align: right;\n",
       "    }\n",
       "</style>\n",
       "<table border=\"1\" class=\"dataframe\">\n",
       "  <thead>\n",
       "    <tr style=\"text-align: right;\">\n",
       "      <th></th>\n",
       "      <th>tissue</th>\n",
       "      <th>age</th>\n",
       "      <th>platform</th>\n",
       "      <th>capture</th>\n",
       "    </tr>\n",
       "  </thead>\n",
       "  <tbody>\n",
       "    <tr>\n",
       "      <th>0</th>\n",
       "      <td>Brain</td>\n",
       "      <td>Adult</td>\n",
       "      <td>ont</td>\n",
       "      <td>post-capture</td>\n",
       "    </tr>\n",
       "    <tr>\n",
       "      <th>1</th>\n",
       "      <td>Brain</td>\n",
       "      <td>Adult</td>\n",
       "      <td>ont</td>\n",
       "      <td>post-capture</td>\n",
       "    </tr>\n",
       "    <tr>\n",
       "      <th>2</th>\n",
       "      <td>Brain</td>\n",
       "      <td>Adult</td>\n",
       "      <td>ont</td>\n",
       "      <td>post-capture</td>\n",
       "    </tr>\n",
       "    <tr>\n",
       "      <th>3</th>\n",
       "      <td>Brain</td>\n",
       "      <td>Adult</td>\n",
       "      <td>ont</td>\n",
       "      <td>post-capture</td>\n",
       "    </tr>\n",
       "    <tr>\n",
       "      <th>4</th>\n",
       "      <td>Brain</td>\n",
       "      <td>Adult</td>\n",
       "      <td>ont</td>\n",
       "      <td>post-capture</td>\n",
       "    </tr>\n",
       "  </tbody>\n",
       "</table>\n",
       "</div>"
      ],
      "text/plain": [
       "  tissue    age platform       capture\n",
       "0  Brain  Adult      ont  post-capture\n",
       "1  Brain  Adult      ont  post-capture\n",
       "2  Brain  Adult      ont  post-capture\n",
       "3  Brain  Adult      ont  post-capture\n",
       "4  Brain  Adult      ont  post-capture"
      ]
     },
     "execution_count": 118,
     "metadata": {},
     "output_type": "execute_result"
    }
   ],
   "source": [
    "# compare isoform diversity pre- and post- capture for matching samples?\n",
    "df = ca.triplets.copy(deep=True)\n",
    "cols =  ['tissue', 'age', 'platform', 'capture']\n",
    "df[gb_cols].head()\n",
    "df = df.groupby"
   ]
  },
  {
   "cell_type": "code",
   "execution_count": null,
   "id": "1d591273-2f5e-4905-b682-b492ae00309a",
   "metadata": {},
   "outputs": [],
   "source": [
    "ca = cerberus.read(cerberus_h5)\n",
    "ca = get_centroids(ca, \n",
    "                   source='sample_det',\n",
    "                   gene_subset=gene_subset,\n",
    "                   ver=ver)\n",
    "df = compute_dists([ca, ca],\n",
    "                   ['sample_det_centroid', 'obs_det'],\n",
    "                   rm_1_isos=[False, True],\n",
    "                   gene_subsets=[gene_subset, gene_subset],\n",
    "                   ver=[ver, ver])"
   ]
  }
 ],
 "metadata": {
  "kernelspec": {
   "display_name": "Python 3",
   "language": "python",
   "name": "python3"
  },
  "language_info": {
   "codemirror_mode": {
    "name": "ipython",
    "version": 3
   },
   "file_extension": ".py",
   "mimetype": "text/x-python",
   "name": "python",
   "nbconvert_exporter": "python",
   "pygments_lexer": "ipython3",
   "version": "3.7.12"
  }
 },
 "nbformat": 4,
 "nbformat_minor": 5
}
