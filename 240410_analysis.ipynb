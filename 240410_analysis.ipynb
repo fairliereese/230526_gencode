{
 "cells": [
  {
   "cell_type": "code",
   "execution_count": 19,
   "id": "a4f32c48-4f20-4723-938d-2fbd96f1150e",
   "metadata": {},
   "outputs": [],
   "source": [
    "import pandas as pd\n",
    "import cerberus\n",
    "import numpy as np"
   ]
  },
  {
   "cell_type": "code",
   "execution_count": 31,
   "id": "e503ddd7-7f9d-4bb1-b764-d4f319fa99e5",
   "metadata": {},
   "outputs": [],
   "source": [
    "def parse_meta(species):\n",
    "    df = pd.read_csv(f'data/{species}/metadata.tsv', sep='\\t')\n",
    "    df['species'] = species\n",
    "    df['subset'] = subset\n",
    "    df['dataset'] = df['tissue']+'_'+\\\n",
    "                 df['age']+'_'+\\\n",
    "                 df['platform']+'_'+\\\n",
    "                 df['capture']+'_'+\\\n",
    "                 df['species']+'_'+\\\n",
    "                 df['subset']\n",
    "    \n",
    "    return df"
   ]
  },
  {
   "cell_type": "code",
   "execution_count": 56,
   "id": "5d5c5fbe-793e-4e8a-b201-1f260787ceaa",
   "metadata": {},
   "outputs": [],
   "source": [
    "DEBUG = True"
   ]
  },
  {
   "cell_type": "markdown",
   "id": "199d1466-9a1e-47a6-9f28-7f901888c4e1",
   "metadata": {},
   "source": [
    "## Capture vs. non capture triplets"
   ]
  },
  {
   "cell_type": "code",
   "execution_count": 60,
   "id": "4c4198fd-cf8b-41d9-8454-ba2f637ec712",
   "metadata": {},
   "outputs": [
    {
     "name": "stdout",
     "output_type": "stream",
     "text": [
      "523659\n",
      "372434\n",
      "\n",
      "523659\n",
      "245329\n",
      "\n"
     ]
    }
   ],
   "source": [
    "species = 'human'\n",
    "obs_col = 'capture'\n",
    "min_tpm = 1\n",
    "\n",
    "ca = cerberus.read(f'data/{species}/cerberus/ca_trip.h5')\n",
    "df = pd.read_csv(f'data/{species}/cerberus/agg_ab.tsv', sep='\\t')\n",
    "df.drop('annot_transcript_name', axis=1, inplace=True)\n",
    "df.set_index('annot_transcript_id', inplace=True)\n",
    "df = df.transpose()\n",
    "df = df.fillna(0)\n",
    "meta = parse_meta(species)\n",
    "meta_cols = meta.columns\n",
    "df = df.merge(meta, how='left', left_index=True, right_on='dataset')\n",
    "df.drop([c for c in meta_cols if c != obs_col], axis=1, inplace=True)\n",
    "\n",
    "# groupby and take max tpm value per thing\n",
    "df = df.groupby('capture').max().reset_index()\n",
    "\n",
    "# loop through the different conditions\n",
    "trip = pd.DataFrame()\n",
    "for obs_cond in df[obs_col].unique():\n",
    "    source = f'{obs_col}_{obs_cond}'\n",
    "    temp = df.loc[df[obs_col] == obs_cond].copy(deep=True)\n",
    "    temp = temp.drop(obs_col, axis=1).transpose()\n",
    "    temp.columns = ['max_tpm']\n",
    "    if DEBUG: print(len(temp.index))\n",
    "    temp = temp.loc[temp.max_tpm >= min_tpm]\n",
    "    if DEBUG: print(f'{len(temp.index)}\\n')\n",
    "    tids = temp.index.tolist()\n",
    "    temp_trip = ca.get_subset_triplets(tids, source)\n",
    "    trip = pd.concat([trip, temp_trip], axis=0)\n",
    "    "
   ]
  },
  {
   "cell_type": "code",
   "execution_count": 61,
   "id": "e9e42e48-1ff5-413e-b618-24b68587de3b",
   "metadata": {},
   "outputs": [
    {
     "data": {
      "text/html": [
       "<div>\n",
       "<style scoped>\n",
       "    .dataframe tbody tr th:only-of-type {\n",
       "        vertical-align: middle;\n",
       "    }\n",
       "\n",
       "    .dataframe tbody tr th {\n",
       "        vertical-align: top;\n",
       "    }\n",
       "\n",
       "    .dataframe thead th {\n",
       "        text-align: right;\n",
       "    }\n",
       "</style>\n",
       "<table border=\"1\" class=\"dataframe\">\n",
       "  <thead>\n",
       "    <tr style=\"text-align: right;\">\n",
       "      <th></th>\n",
       "      <th>source</th>\n",
       "    </tr>\n",
       "  </thead>\n",
       "  <tbody>\n",
       "  </tbody>\n",
       "</table>\n",
       "</div>"
      ],
      "text/plain": [
       "Empty DataFrame\n",
       "Columns: [source]\n",
       "Index: []"
      ]
     },
     "execution_count": 61,
     "metadata": {},
     "output_type": "execute_result"
    }
   ],
   "source": [
    "ca.triplets.head()"
   ]
  },
  {
   "cell_type": "code",
   "execution_count": 55,
   "id": "baba2342-f85b-429a-9f3b-37f7568a4650",
   "metadata": {},
   "outputs": [
    {
     "name": "stdout",
     "output_type": "stream",
     "text": [
      "523659\n",
      "245329\n"
     ]
    }
   ],
   "source": [
    "temp = temp.drop(obs_col, axis=1).transpose()\n",
    "temp.columns = ['max_tpm']\n",
    "print(len(temp.index))\n",
    "temp = temp.loc[temp.max_tpm >= min_tpm]\n",
    "print(len(temp.index))\n",
    "tids = temp.index.tolist()"
   ]
  },
  {
   "cell_type": "code",
   "execution_count": null,
   "id": "1fa0fab3-609d-4967-b6b7-bce5966a215b",
   "metadata": {},
   "outputs": [],
   "source": []
  },
  {
   "cell_type": "code",
   "execution_count": null,
   "id": "58e4b32d-ab33-4053-803c-157d74f63bff",
   "metadata": {},
   "outputs": [],
   "source": []
  },
  {
   "cell_type": "code",
   "execution_count": null,
   "id": "50be8cb4-8ce9-4d57-97ae-cbef52f82941",
   "metadata": {},
   "outputs": [],
   "source": []
  },
  {
   "cell_type": "code",
   "execution_count": null,
   "id": "66b8154d-17be-474c-9d72-e1e72b8b726c",
   "metadata": {},
   "outputs": [],
   "source": []
  },
  {
   "cell_type": "code",
   "execution_count": null,
   "id": "e5c3a060-532a-4e37-a5a2-9594b4a943ba",
   "metadata": {},
   "outputs": [],
   "source": []
  },
  {
   "cell_type": "code",
   "execution_count": 24,
   "id": "d9683ef1-ebfe-49a9-9abb-fa2d16028742",
   "metadata": {},
   "outputs": [],
   "source": [
    "# # ca.triplets.head()\n",
    "# df = pd.read_csv('data/human/cerberus/triplets.tsv', sep='\\t')\n",
    "# meta = pd.read_csv('data/human/metadata.tsv', sep='\\t')\n",
    "# meta['species'] = species\n",
    "# meta['subset'] = subset\n",
    "# meta['dataset'] = meta['tissue']+'_'+\\\n",
    "#              meta['age']+'_'+\\\n",
    "#              meta['platform']+'_'+\\\n",
    "#              meta['capture']+'_'+\\\n",
    "#              meta['species']+'_'+\\\n",
    "#              meta['subset']"
   ]
  },
  {
   "cell_type": "code",
   "execution_count": null,
   "id": "7def662d-f6e7-4a49-b10b-6a7a08eb9a8d",
   "metadata": {},
   "outputs": [],
   "source": []
  }
 ],
 "metadata": {
  "kernelspec": {
   "display_name": "Python 3",
   "language": "python",
   "name": "python3"
  },
  "language_info": {
   "codemirror_mode": {
    "name": "ipython",
    "version": 3
   },
   "file_extension": ".py",
   "mimetype": "text/x-python",
   "name": "python",
   "nbconvert_exporter": "python",
   "pygments_lexer": "ipython3",
   "version": "3.7.12"
  }
 },
 "nbformat": 4,
 "nbformat_minor": 5
}
