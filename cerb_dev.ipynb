{
 "cells": [
  {
   "cell_type": "markdown",
   "id": "8c492116-b057-433e-8622-426f4e11630f",
   "metadata": {},
   "source": [
    "## 231016 where did all my transcripts go?"
   ]
  },
  {
   "cell_type": "code",
   "execution_count": 2,
   "id": "10dfadcf-aa23-46a6-b1fa-dea57e1f9693",
   "metadata": {},
   "outputs": [],
   "source": [
    "from snakemake.io import expand\n",
    "import pandas as pd\n",
    "import yaml\n",
    "import pdb\n",
    "import re\n",
    "import numpy as np\n",
    "import pyranges as pr\n",
    "import cerberus\n",
    "import seaborn as sns\n",
    "from utils import *"
   ]
  },
  {
   "cell_type": "code",
   "execution_count": 3,
   "id": "098aa62e-03e2-49e0-8bd8-d8c41d682c7b",
   "metadata": {},
   "outputs": [],
   "source": [
    "config_file = 'config.yml'\n",
    "with open(config_file) as f:\n",
    "    config = yaml.safe_load(f)"
   ]
  },
  {
   "cell_type": "code",
   "execution_count": 4,
   "id": "bec415b1-a01a-47ab-9d1b-0ab169fe0f31",
   "metadata": {},
   "outputs": [],
   "source": [
    "source = 'iPSC_Embryo_pacBioSII_post-capture_human_all'\n",
    "h5 = expand(config['data']['cerb']['ca_annot'], zip, species='human', dataset=source, cerberus_run=47)[0]\n"
   ]
  },
  {
   "cell_type": "code",
   "execution_count": 5,
   "id": "0c4cf712-10b8-4100-8d8f-9e937c93d4fe",
   "metadata": {},
   "outputs": [],
   "source": [
    "ca = cerberus.read(h5)"
   ]
  },
  {
   "cell_type": "code",
   "execution_count": 6,
   "id": "b6273ef7-82d7-4413-8130-69d74efa5d2e",
   "metadata": {},
   "outputs": [],
   "source": [
    "df = ca.t_map.loc[ca.t_map.source==source]"
   ]
  },
  {
   "cell_type": "code",
   "execution_count": 7,
   "id": "2f0899d2-04c0-4d9c-801c-ef80f6d01dc4",
   "metadata": {},
   "outputs": [
    {
     "data": {
      "text/html": [
       "<div>\n",
       "<style scoped>\n",
       "    .dataframe tbody tr th:only-of-type {\n",
       "        vertical-align: middle;\n",
       "    }\n",
       "\n",
       "    .dataframe tbody tr th {\n",
       "        vertical-align: top;\n",
       "    }\n",
       "\n",
       "    .dataframe thead th {\n",
       "        text-align: right;\n",
       "    }\n",
       "</style>\n",
       "<table border=\"1\" class=\"dataframe\">\n",
       "  <thead>\n",
       "    <tr style=\"text-align: right;\">\n",
       "      <th></th>\n",
       "      <th>original_transcript_id</th>\n",
       "      <th>ic</th>\n",
       "      <th>ic_id</th>\n",
       "      <th>tss_id</th>\n",
       "      <th>tss</th>\n",
       "      <th>tes_id</th>\n",
       "      <th>tes</th>\n",
       "      <th>gene_id</th>\n",
       "      <th>gene_name</th>\n",
       "      <th>original_transcript_name</th>\n",
       "      <th>transcript_triplet</th>\n",
       "      <th>transcript_id</th>\n",
       "      <th>transcript_name</th>\n",
       "      <th>tss_first_sd_issue</th>\n",
       "      <th>tes_last_sa_issue</th>\n",
       "      <th>source</th>\n",
       "    </tr>\n",
       "  </thead>\n",
       "  <tbody>\n",
       "    <tr>\n",
       "      <th>0</th>\n",
       "      <td>pacBioSII-Cshl-CapTrap_Hv3_0+_iPSC01Rep1.NAM_T...</td>\n",
       "      <td>15</td>\n",
       "      <td>novelGene_1_15</td>\n",
       "      <td>novelGene_1_22</td>\n",
       "      <td>22</td>\n",
       "      <td>novelGene_1_23</td>\n",
       "      <td>23</td>\n",
       "      <td>novelGene_1</td>\n",
       "      <td>novelGene_1</td>\n",
       "      <td>pacBioSII-Cshl-CapTrap_Hv3_0+_iPSC01Rep1.NAM_T...</td>\n",
       "      <td>[22,15,23]</td>\n",
       "      <td>novelGene_1[22,15,23]</td>\n",
       "      <td>novelGene_1[22,15,23]</td>\n",
       "      <td>False</td>\n",
       "      <td>False</td>\n",
       "      <td>iPSC_Embryo_pacBioSII_post-capture_human_all</td>\n",
       "    </tr>\n",
       "    <tr>\n",
       "      <th>1</th>\n",
       "      <td>pacBioSII-Cshl-CapTrap_Hv3_0+_iPSC01Rep1.NAM_T...</td>\n",
       "      <td>2</td>\n",
       "      <td>novelGene_3_2</td>\n",
       "      <td>novelGene_3_30</td>\n",
       "      <td>30</td>\n",
       "      <td>novelGene_3_30</td>\n",
       "      <td>30</td>\n",
       "      <td>novelGene_3</td>\n",
       "      <td>novelGene_3</td>\n",
       "      <td>pacBioSII-Cshl-CapTrap_Hv3_0+_iPSC01Rep1.NAM_T...</td>\n",
       "      <td>[30,2,30]</td>\n",
       "      <td>novelGene_3[30,2,30]</td>\n",
       "      <td>novelGene_3[30,2,30]</td>\n",
       "      <td>False</td>\n",
       "      <td>False</td>\n",
       "      <td>iPSC_Embryo_pacBioSII_post-capture_human_all</td>\n",
       "    </tr>\n",
       "    <tr>\n",
       "      <th>2</th>\n",
       "      <td>pacBioSII-Cshl-CapTrap_Hv3_0+_iPSC01Rep1.NAM_T...</td>\n",
       "      <td>2</td>\n",
       "      <td>ENSG00000224174_2</td>\n",
       "      <td>ENSG00000224174_1</td>\n",
       "      <td>1</td>\n",
       "      <td>ENSG00000224174_1</td>\n",
       "      <td>1</td>\n",
       "      <td>ENSG00000224174</td>\n",
       "      <td>ENSG00000224174</td>\n",
       "      <td>pacBioSII-Cshl-CapTrap_Hv3_0+_iPSC01Rep1.NAM_T...</td>\n",
       "      <td>[1,2,1]</td>\n",
       "      <td>ENSG00000224174[1,2,1]</td>\n",
       "      <td>ENSG00000224174[1,2,1]</td>\n",
       "      <td>False</td>\n",
       "      <td>False</td>\n",
       "      <td>iPSC_Embryo_pacBioSII_post-capture_human_all</td>\n",
       "    </tr>\n",
       "    <tr>\n",
       "      <th>3</th>\n",
       "      <td>pacBioSII-Cshl-CapTrap_Hv3_0+_iPSC01Rep1.NAM_T...</td>\n",
       "      <td>23</td>\n",
       "      <td>novelGene_5_23</td>\n",
       "      <td>novelGene_5_38</td>\n",
       "      <td>38</td>\n",
       "      <td>novelGene_5_38</td>\n",
       "      <td>38</td>\n",
       "      <td>novelGene_5</td>\n",
       "      <td>novelGene_5</td>\n",
       "      <td>pacBioSII-Cshl-CapTrap_Hv3_0+_iPSC01Rep1.NAM_T...</td>\n",
       "      <td>[38,23,38]</td>\n",
       "      <td>novelGene_5[38,23,38]</td>\n",
       "      <td>novelGene_5[38,23,38]</td>\n",
       "      <td>False</td>\n",
       "      <td>False</td>\n",
       "      <td>iPSC_Embryo_pacBioSII_post-capture_human_all</td>\n",
       "    </tr>\n",
       "    <tr>\n",
       "      <th>4</th>\n",
       "      <td>pacBioSII-Cshl-CapTrap_Hv3_0+_iPSC01Rep1.NAM_T...</td>\n",
       "      <td>6</td>\n",
       "      <td>novelGene_8_6</td>\n",
       "      <td>novelGene_8_35</td>\n",
       "      <td>35</td>\n",
       "      <td>novelGene_8_36</td>\n",
       "      <td>36</td>\n",
       "      <td>novelGene_8</td>\n",
       "      <td>novelGene_8</td>\n",
       "      <td>pacBioSII-Cshl-CapTrap_Hv3_0+_iPSC01Rep1.NAM_T...</td>\n",
       "      <td>[35,6,36]</td>\n",
       "      <td>novelGene_8[35,6,36]</td>\n",
       "      <td>novelGene_8[35,6,36]</td>\n",
       "      <td>False</td>\n",
       "      <td>False</td>\n",
       "      <td>iPSC_Embryo_pacBioSII_post-capture_human_all</td>\n",
       "    </tr>\n",
       "  </tbody>\n",
       "</table>\n",
       "</div>"
      ],
      "text/plain": [
       "                              original_transcript_id  ic              ic_id  \\\n",
       "0  pacBioSII-Cshl-CapTrap_Hv3_0+_iPSC01Rep1.NAM_T...  15     novelGene_1_15   \n",
       "1  pacBioSII-Cshl-CapTrap_Hv3_0+_iPSC01Rep1.NAM_T...   2      novelGene_3_2   \n",
       "2  pacBioSII-Cshl-CapTrap_Hv3_0+_iPSC01Rep1.NAM_T...   2  ENSG00000224174_2   \n",
       "3  pacBioSII-Cshl-CapTrap_Hv3_0+_iPSC01Rep1.NAM_T...  23     novelGene_5_23   \n",
       "4  pacBioSII-Cshl-CapTrap_Hv3_0+_iPSC01Rep1.NAM_T...   6      novelGene_8_6   \n",
       "\n",
       "              tss_id  tss             tes_id  tes          gene_id  \\\n",
       "0     novelGene_1_22   22     novelGene_1_23   23      novelGene_1   \n",
       "1     novelGene_3_30   30     novelGene_3_30   30      novelGene_3   \n",
       "2  ENSG00000224174_1    1  ENSG00000224174_1    1  ENSG00000224174   \n",
       "3     novelGene_5_38   38     novelGene_5_38   38      novelGene_5   \n",
       "4     novelGene_8_35   35     novelGene_8_36   36      novelGene_8   \n",
       "\n",
       "         gene_name                           original_transcript_name  \\\n",
       "0      novelGene_1  pacBioSII-Cshl-CapTrap_Hv3_0+_iPSC01Rep1.NAM_T...   \n",
       "1      novelGene_3  pacBioSII-Cshl-CapTrap_Hv3_0+_iPSC01Rep1.NAM_T...   \n",
       "2  ENSG00000224174  pacBioSII-Cshl-CapTrap_Hv3_0+_iPSC01Rep1.NAM_T...   \n",
       "3      novelGene_5  pacBioSII-Cshl-CapTrap_Hv3_0+_iPSC01Rep1.NAM_T...   \n",
       "4      novelGene_8  pacBioSII-Cshl-CapTrap_Hv3_0+_iPSC01Rep1.NAM_T...   \n",
       "\n",
       "  transcript_triplet           transcript_id         transcript_name  \\\n",
       "0         [22,15,23]   novelGene_1[22,15,23]   novelGene_1[22,15,23]   \n",
       "1          [30,2,30]    novelGene_3[30,2,30]    novelGene_3[30,2,30]   \n",
       "2            [1,2,1]  ENSG00000224174[1,2,1]  ENSG00000224174[1,2,1]   \n",
       "3         [38,23,38]   novelGene_5[38,23,38]   novelGene_5[38,23,38]   \n",
       "4          [35,6,36]    novelGene_8[35,6,36]    novelGene_8[35,6,36]   \n",
       "\n",
       "  tss_first_sd_issue tes_last_sa_issue  \\\n",
       "0              False             False   \n",
       "1              False             False   \n",
       "2              False             False   \n",
       "3              False             False   \n",
       "4              False             False   \n",
       "\n",
       "                                         source  \n",
       "0  iPSC_Embryo_pacBioSII_post-capture_human_all  \n",
       "1  iPSC_Embryo_pacBioSII_post-capture_human_all  \n",
       "2  iPSC_Embryo_pacBioSII_post-capture_human_all  \n",
       "3  iPSC_Embryo_pacBioSII_post-capture_human_all  \n",
       "4  iPSC_Embryo_pacBioSII_post-capture_human_all  "
      ]
     },
     "execution_count": 7,
     "metadata": {},
     "output_type": "execute_result"
    }
   ],
   "source": [
    "df.head()"
   ]
  },
  {
   "cell_type": "code",
   "execution_count": 8,
   "id": "ad0742f4-2e0d-4efd-87d6-110b8a633182",
   "metadata": {},
   "outputs": [
    {
     "data": {
      "text/plain": [
       "[]"
      ]
     },
     "execution_count": 8,
     "metadata": {},
     "output_type": "execute_result"
    }
   ],
   "source": [
    "df.loc[df.original_transcript_id.str.contains(',')].original_transcript_id.tolist()[:5]"
   ]
  },
  {
   "cell_type": "code",
   "execution_count": 9,
   "id": "a0a8f413-9fc5-4428-b19d-e75556917444",
   "metadata": {},
   "outputs": [
    {
     "data": {
      "text/plain": [
       "559"
      ]
     },
     "execution_count": 9,
     "metadata": {},
     "output_type": "execute_result"
    }
   ],
   "source": [
    "len(df.index)"
   ]
  },
  {
   "cell_type": "code",
   "execution_count": null,
   "id": "2779a3ec-f49c-44e0-8ff1-ea10f9622fe8",
   "metadata": {},
   "outputs": [],
   "source": [
    "# okay, so my transcripts didn't make it into cerberus for some reason? "
   ]
  },
  {
   "cell_type": "code",
   "execution_count": null,
   "id": "5d0198b9-f66b-433a-8bda-b4b839171945",
   "metadata": {},
   "outputs": [],
   "source": []
  },
  {
   "cell_type": "code",
   "execution_count": null,
   "id": "f9c16759-6dc9-4cef-a105-b822a0750d06",
   "metadata": {},
   "outputs": [],
   "source": []
  },
  {
   "cell_type": "code",
   "execution_count": null,
   "id": "dca87c3f-4c0b-41dc-b947-b40712bb14de",
   "metadata": {},
   "outputs": [],
   "source": []
  },
  {
   "cell_type": "code",
   "execution_count": null,
   "id": "2c33d042-0341-4ce2-982b-fce28941e517",
   "metadata": {},
   "outputs": [],
   "source": []
  },
  {
   "cell_type": "code",
   "execution_count": null,
   "id": "ca821412-1c9e-4ea1-819c-3221fee77fef",
   "metadata": {},
   "outputs": [],
   "source": []
  },
  {
   "cell_type": "code",
   "execution_count": null,
   "id": "9dfe3ce1-21ba-46fa-8f46-c3787e317ca6",
   "metadata": {},
   "outputs": [],
   "source": []
  },
  {
   "cell_type": "code",
   "execution_count": null,
   "id": "7eb2fb22-99b8-4a50-9fa1-09fae2def45e",
   "metadata": {},
   "outputs": [],
   "source": []
  },
  {
   "cell_type": "code",
   "execution_count": null,
   "id": "54b309d1-8d14-4c6c-9278-8c046e5df075",
   "metadata": {},
   "outputs": [],
   "source": []
  },
  {
   "cell_type": "code",
   "execution_count": 1,
   "id": "6178f1f0-8755-413e-b8b3-2ce605a8b5de",
   "metadata": {},
   "outputs": [],
   "source": [
    "import cerberus"
   ]
  },
  {
   "cell_type": "code",
   "execution_count": 2,
   "id": "8c52dff9-d49f-47c6-bc33-8e7e41a2ea6e",
   "metadata": {},
   "outputs": [],
   "source": [
    "c_annot = 'data/mouse/cerberus/ca_ref.h5'"
   ]
  },
  {
   "cell_type": "code",
   "execution_count": 3,
   "id": "6362fada-21c6-4250-9754-1b5f6d6fef69",
   "metadata": {},
   "outputs": [
    {
     "name": "stdout",
     "output_type": "stream",
     "text": [
      "> \u001b[0;32m/Users/fairliereese/Documents/programming/mortazavi_lab/bin/cerberus/cerberus/cerberusannotation.py\u001b[0m(59)\u001b[0;36mset_tss\u001b[0;34m()\u001b[0m\n",
      "\u001b[0;32m     57 \u001b[0;31m        \u001b[0mself\u001b[0m\u001b[0;34m.\u001b[0m\u001b[0mtss\u001b[0m \u001b[0;34m=\u001b[0m \u001b[0mtss\u001b[0m\u001b[0;34m\u001b[0m\u001b[0;34m\u001b[0m\u001b[0m\n",
      "\u001b[0m\u001b[0;32m     58 \u001b[0;31m        \u001b[0;32mimport\u001b[0m \u001b[0mpdb\u001b[0m\u001b[0;34m;\u001b[0m \u001b[0mpdb\u001b[0m\u001b[0;34m.\u001b[0m\u001b[0mset_trace\u001b[0m\u001b[0;34m(\u001b[0m\u001b[0;34m)\u001b[0m\u001b[0;34m\u001b[0m\u001b[0;34m\u001b[0m\u001b[0m\n",
      "\u001b[0m\u001b[0;32m---> 59 \u001b[0;31m        \u001b[0;32mif\u001b[0m \u001b[0misinstance\u001b[0m\u001b[0;34m(\u001b[0m\u001b[0mtss\u001b[0m\u001b[0;34m,\u001b[0m \u001b[0mpd\u001b[0m\u001b[0;34m.\u001b[0m\u001b[0mDataFrame\u001b[0m\u001b[0;34m)\u001b[0m\u001b[0;34m:\u001b[0m\u001b[0;34m\u001b[0m\u001b[0;34m\u001b[0m\u001b[0m\n",
      "\u001b[0m\u001b[0;32m     60 \u001b[0;31m            \u001b[0mself\u001b[0m\u001b[0;34m.\u001b[0m\u001b[0mtss_sources\u001b[0m \u001b[0;34m=\u001b[0m \u001b[0mself\u001b[0m\u001b[0;34m.\u001b[0m\u001b[0mget_sources\u001b[0m\u001b[0;34m(\u001b[0m\u001b[0mself\u001b[0m\u001b[0;34m.\u001b[0m\u001b[0mtss\u001b[0m\u001b[0;34m)\u001b[0m\u001b[0;34m\u001b[0m\u001b[0;34m\u001b[0m\u001b[0m\n",
      "\u001b[0m\u001b[0;32m     61 \u001b[0;31m            \u001b[0mself\u001b[0m\u001b[0;34m.\u001b[0m\u001b[0mall_sources\u001b[0m \u001b[0;34m=\u001b[0m \u001b[0mself\u001b[0m\u001b[0;34m.\u001b[0m\u001b[0mget_all_sources\u001b[0m\u001b[0;34m(\u001b[0m\u001b[0;34m)\u001b[0m\u001b[0;34m\u001b[0m\u001b[0;34m\u001b[0m\u001b[0m\n",
      "\u001b[0m\n"
     ]
    },
    {
     "name": "stdin",
     "output_type": "stream",
     "text": [
      "ipdb>  c\n"
     ]
    }
   ],
   "source": [
    "ca = cerberus.read(c_annot)"
   ]
  },
  {
   "cell_type": "code",
   "execution_count": null,
   "id": "a82754ab-cf76-4510-9648-0fe0aaeb9909",
   "metadata": {},
   "outputs": [],
   "source": []
  }
 ],
 "metadata": {
  "kernelspec": {
   "display_name": "Python 3",
   "language": "python",
   "name": "python3"
  },
  "language_info": {
   "codemirror_mode": {
    "name": "ipython",
    "version": 3
   },
   "file_extension": ".py",
   "mimetype": "text/x-python",
   "name": "python",
   "nbconvert_exporter": "python",
   "pygments_lexer": "ipython3",
   "version": "3.7.12"
  }
 },
 "nbformat": 4,
 "nbformat_minor": 5
}
