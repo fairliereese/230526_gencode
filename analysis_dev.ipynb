{
 "cells": [
  {
   "cell_type": "code",
   "execution_count": 1,
   "id": "dbd803c6-441e-40ef-b2e8-2048f02bd40a",
   "metadata": {},
   "outputs": [],
   "source": [
    "from snakemake.io import expand\n",
    "import pandas as pd\n",
    "import yaml\n",
    "import pdb\n",
    "import re\n",
    "import numpy as np\n",
    "import pyranges as pr\n",
    "from utils import *"
   ]
  },
  {
   "cell_type": "code",
   "execution_count": 2,
   "id": "2d4e9d9b-d48b-4a4e-a114-b80011639e5d",
   "metadata": {},
   "outputs": [],
   "source": [
    "config_file = 'config.yml'\n",
    "with open(config_file) as f:\n",
    "    config = yaml.safe_load(f)"
   ]
  },
  {
   "cell_type": "code",
   "execution_count": 6,
   "id": "745d9674-329b-4aaf-b48e-fc3a4a0d75ad",
   "metadata": {},
   "outputs": [],
   "source": [
    "ab = expand(config['data']['cerb']['agg_ab'], zip, species='human')[0]"
   ]
  },
  {
   "cell_type": "code",
   "execution_count": 7,
   "id": "23c52e53-59a3-47a8-8568-60a4646588b8",
   "metadata": {},
   "outputs": [],
   "source": [
    "df = pd.read_csv(ab, sep='\\t')"
   ]
  },
  {
   "cell_type": "code",
   "execution_count": 8,
   "id": "d1bca343-7b64-465f-903d-725a3ded1fa3",
   "metadata": {},
   "outputs": [
    {
     "data": {
      "text/html": [
       "<div>\n",
       "<style scoped>\n",
       "    .dataframe tbody tr th:only-of-type {\n",
       "        vertical-align: middle;\n",
       "    }\n",
       "\n",
       "    .dataframe tbody tr th {\n",
       "        vertical-align: top;\n",
       "    }\n",
       "\n",
       "    .dataframe thead th {\n",
       "        text-align: right;\n",
       "    }\n",
       "</style>\n",
       "<table border=\"1\" class=\"dataframe\">\n",
       "  <thead>\n",
       "    <tr style=\"text-align: right;\">\n",
       "      <th></th>\n",
       "      <th>annot_transcript_id</th>\n",
       "      <th>annot_transcript_name</th>\n",
       "      <th>Brain_Adult_ont_post-capture_human_all</th>\n",
       "      <th>Brain_Adult_ont_pre-capture_human_all</th>\n",
       "      <th>Brain_Adult_pacBioSII_post-capture_human_all</th>\n",
       "      <th>Brain_Adult_pacBioSII_pre-capture_human_all</th>\n",
       "      <th>Brain_Embryo_ont_post-capture_human_all</th>\n",
       "      <th>Brain_Embryo_ont_pre-capture_human_all</th>\n",
       "      <th>Brain_Embryo_pacBioSII_post-capture_human_all</th>\n",
       "      <th>Brain_Embryo_pacBioSII_pre-capture_human_all</th>\n",
       "      <th>...</th>\n",
       "      <th>TpoolA_Adult_pacBioSII_post-capture_human_all</th>\n",
       "      <th>TpoolA_Adult_pacBioSII_pre-capture_human_all</th>\n",
       "      <th>WBlood_Adult_ont_post-capture_human_all</th>\n",
       "      <th>WBlood_Adult_ont_pre-capture_human_all</th>\n",
       "      <th>WBlood_Adult_pacBioSII_post-capture_human_all</th>\n",
       "      <th>WBlood_Adult_pacBioSII_pre-capture_human_all</th>\n",
       "      <th>iPSC_Embryo_ont_post-capture_human_all</th>\n",
       "      <th>iPSC_Embryo_ont_pre-capture_human_all</th>\n",
       "      <th>iPSC_Embryo_pacBioSII_post-capture_human_all</th>\n",
       "      <th>iPSC_Embryo_pacBioSII_pre-capture_human_all</th>\n",
       "    </tr>\n",
       "  </thead>\n",
       "  <tbody>\n",
       "    <tr>\n",
       "      <th>0</th>\n",
       "      <td>ENSG00000000419[1,1,1]</td>\n",
       "      <td>DPM1[1,1,1]</td>\n",
       "      <td>19.850260</td>\n",
       "      <td>215.831746</td>\n",
       "      <td>NaN</td>\n",
       "      <td>3.118956</td>\n",
       "      <td>57.003758</td>\n",
       "      <td>16.847988</td>\n",
       "      <td>1.238302</td>\n",
       "      <td>60.951968</td>\n",
       "      <td>...</td>\n",
       "      <td>NaN</td>\n",
       "      <td>3.42041</td>\n",
       "      <td>18.492804</td>\n",
       "      <td>NaN</td>\n",
       "      <td>2.089932</td>\n",
       "      <td>20.71713</td>\n",
       "      <td>110.109636</td>\n",
       "      <td>14.057068</td>\n",
       "      <td>2.228944</td>\n",
       "      <td>NaN</td>\n",
       "    </tr>\n",
       "    <tr>\n",
       "      <th>1</th>\n",
       "      <td>ENSG00000000419[1,22,1]</td>\n",
       "      <td>DPM1[1,22,1]</td>\n",
       "      <td>9.925130</td>\n",
       "      <td>16.602442</td>\n",
       "      <td>NaN</td>\n",
       "      <td>NaN</td>\n",
       "      <td>16.286788</td>\n",
       "      <td>58.967958</td>\n",
       "      <td>NaN</td>\n",
       "      <td>NaN</td>\n",
       "      <td>...</td>\n",
       "      <td>NaN</td>\n",
       "      <td>NaN</td>\n",
       "      <td>NaN</td>\n",
       "      <td>18.821214</td>\n",
       "      <td>NaN</td>\n",
       "      <td>NaN</td>\n",
       "      <td>47.189844</td>\n",
       "      <td>21.085602</td>\n",
       "      <td>NaN</td>\n",
       "      <td>NaN</td>\n",
       "    </tr>\n",
       "    <tr>\n",
       "      <th>2</th>\n",
       "      <td>ENSG00000001084[12,15,1]</td>\n",
       "      <td>GCLC[12,15,1]</td>\n",
       "      <td>24.812825</td>\n",
       "      <td>124.518315</td>\n",
       "      <td>NaN</td>\n",
       "      <td>3.118956</td>\n",
       "      <td>97.720728</td>\n",
       "      <td>429.623694</td>\n",
       "      <td>NaN</td>\n",
       "      <td>36.017072</td>\n",
       "      <td>...</td>\n",
       "      <td>NaN</td>\n",
       "      <td>6.84082</td>\n",
       "      <td>NaN</td>\n",
       "      <td>37.642428</td>\n",
       "      <td>NaN</td>\n",
       "      <td>NaN</td>\n",
       "      <td>133.704558</td>\n",
       "      <td>337.369632</td>\n",
       "      <td>NaN</td>\n",
       "      <td>67.535262</td>\n",
       "    </tr>\n",
       "    <tr>\n",
       "      <th>3</th>\n",
       "      <td>ENSG00000001630ENSG00000285772.1ENSG0000028902...</td>\n",
       "      <td>ENSG00000001630ENSG00000285772.1ENSG0000028902...</td>\n",
       "      <td>29.775390</td>\n",
       "      <td>NaN</td>\n",
       "      <td>NaN</td>\n",
       "      <td>NaN</td>\n",
       "      <td>48.860364</td>\n",
       "      <td>NaN</td>\n",
       "      <td>NaN</td>\n",
       "      <td>NaN</td>\n",
       "      <td>...</td>\n",
       "      <td>NaN</td>\n",
       "      <td>NaN</td>\n",
       "      <td>NaN</td>\n",
       "      <td>NaN</td>\n",
       "      <td>NaN</td>\n",
       "      <td>NaN</td>\n",
       "      <td>NaN</td>\n",
       "      <td>NaN</td>\n",
       "      <td>NaN</td>\n",
       "      <td>NaN</td>\n",
       "    </tr>\n",
       "    <tr>\n",
       "      <th>4</th>\n",
       "      <td>ENSG00000001630[1,1,9]</td>\n",
       "      <td>CYP51A1[1,1,9]</td>\n",
       "      <td>34.737955</td>\n",
       "      <td>NaN</td>\n",
       "      <td>NaN</td>\n",
       "      <td>NaN</td>\n",
       "      <td>NaN</td>\n",
       "      <td>NaN</td>\n",
       "      <td>NaN</td>\n",
       "      <td>NaN</td>\n",
       "      <td>...</td>\n",
       "      <td>NaN</td>\n",
       "      <td>NaN</td>\n",
       "      <td>NaN</td>\n",
       "      <td>NaN</td>\n",
       "      <td>NaN</td>\n",
       "      <td>NaN</td>\n",
       "      <td>NaN</td>\n",
       "      <td>NaN</td>\n",
       "      <td>NaN</td>\n",
       "      <td>NaN</td>\n",
       "    </tr>\n",
       "  </tbody>\n",
       "</table>\n",
       "<p>5 rows × 50 columns</p>\n",
       "</div>"
      ],
      "text/plain": [
       "                                 annot_transcript_id  \\\n",
       "0                             ENSG00000000419[1,1,1]   \n",
       "1                            ENSG00000000419[1,22,1]   \n",
       "2                           ENSG00000001084[12,15,1]   \n",
       "3  ENSG00000001630ENSG00000285772.1ENSG0000028902...   \n",
       "4                             ENSG00000001630[1,1,9]   \n",
       "\n",
       "                               annot_transcript_name  \\\n",
       "0                                        DPM1[1,1,1]   \n",
       "1                                       DPM1[1,22,1]   \n",
       "2                                      GCLC[12,15,1]   \n",
       "3  ENSG00000001630ENSG00000285772.1ENSG0000028902...   \n",
       "4                                     CYP51A1[1,1,9]   \n",
       "\n",
       "   Brain_Adult_ont_post-capture_human_all  \\\n",
       "0                               19.850260   \n",
       "1                                9.925130   \n",
       "2                               24.812825   \n",
       "3                               29.775390   \n",
       "4                               34.737955   \n",
       "\n",
       "   Brain_Adult_ont_pre-capture_human_all  \\\n",
       "0                             215.831746   \n",
       "1                              16.602442   \n",
       "2                             124.518315   \n",
       "3                                    NaN   \n",
       "4                                    NaN   \n",
       "\n",
       "   Brain_Adult_pacBioSII_post-capture_human_all  \\\n",
       "0                                           NaN   \n",
       "1                                           NaN   \n",
       "2                                           NaN   \n",
       "3                                           NaN   \n",
       "4                                           NaN   \n",
       "\n",
       "   Brain_Adult_pacBioSII_pre-capture_human_all  \\\n",
       "0                                     3.118956   \n",
       "1                                          NaN   \n",
       "2                                     3.118956   \n",
       "3                                          NaN   \n",
       "4                                          NaN   \n",
       "\n",
       "   Brain_Embryo_ont_post-capture_human_all  \\\n",
       "0                                57.003758   \n",
       "1                                16.286788   \n",
       "2                                97.720728   \n",
       "3                                48.860364   \n",
       "4                                      NaN   \n",
       "\n",
       "   Brain_Embryo_ont_pre-capture_human_all  \\\n",
       "0                               16.847988   \n",
       "1                               58.967958   \n",
       "2                              429.623694   \n",
       "3                                     NaN   \n",
       "4                                     NaN   \n",
       "\n",
       "   Brain_Embryo_pacBioSII_post-capture_human_all  \\\n",
       "0                                       1.238302   \n",
       "1                                            NaN   \n",
       "2                                            NaN   \n",
       "3                                            NaN   \n",
       "4                                            NaN   \n",
       "\n",
       "   Brain_Embryo_pacBioSII_pre-capture_human_all  ...  \\\n",
       "0                                     60.951968  ...   \n",
       "1                                           NaN  ...   \n",
       "2                                     36.017072  ...   \n",
       "3                                           NaN  ...   \n",
       "4                                           NaN  ...   \n",
       "\n",
       "   TpoolA_Adult_pacBioSII_post-capture_human_all  \\\n",
       "0                                            NaN   \n",
       "1                                            NaN   \n",
       "2                                            NaN   \n",
       "3                                            NaN   \n",
       "4                                            NaN   \n",
       "\n",
       "   TpoolA_Adult_pacBioSII_pre-capture_human_all  \\\n",
       "0                                       3.42041   \n",
       "1                                           NaN   \n",
       "2                                       6.84082   \n",
       "3                                           NaN   \n",
       "4                                           NaN   \n",
       "\n",
       "   WBlood_Adult_ont_post-capture_human_all  \\\n",
       "0                                18.492804   \n",
       "1                                      NaN   \n",
       "2                                      NaN   \n",
       "3                                      NaN   \n",
       "4                                      NaN   \n",
       "\n",
       "   WBlood_Adult_ont_pre-capture_human_all  \\\n",
       "0                                     NaN   \n",
       "1                               18.821214   \n",
       "2                               37.642428   \n",
       "3                                     NaN   \n",
       "4                                     NaN   \n",
       "\n",
       "   WBlood_Adult_pacBioSII_post-capture_human_all  \\\n",
       "0                                       2.089932   \n",
       "1                                            NaN   \n",
       "2                                            NaN   \n",
       "3                                            NaN   \n",
       "4                                            NaN   \n",
       "\n",
       "   WBlood_Adult_pacBioSII_pre-capture_human_all  \\\n",
       "0                                      20.71713   \n",
       "1                                           NaN   \n",
       "2                                           NaN   \n",
       "3                                           NaN   \n",
       "4                                           NaN   \n",
       "\n",
       "   iPSC_Embryo_ont_post-capture_human_all  \\\n",
       "0                              110.109636   \n",
       "1                               47.189844   \n",
       "2                              133.704558   \n",
       "3                                     NaN   \n",
       "4                                     NaN   \n",
       "\n",
       "   iPSC_Embryo_ont_pre-capture_human_all  \\\n",
       "0                              14.057068   \n",
       "1                              21.085602   \n",
       "2                             337.369632   \n",
       "3                                    NaN   \n",
       "4                                    NaN   \n",
       "\n",
       "   iPSC_Embryo_pacBioSII_post-capture_human_all  \\\n",
       "0                                      2.228944   \n",
       "1                                           NaN   \n",
       "2                                           NaN   \n",
       "3                                           NaN   \n",
       "4                                           NaN   \n",
       "\n",
       "   iPSC_Embryo_pacBioSII_pre-capture_human_all  \n",
       "0                                          NaN  \n",
       "1                                          NaN  \n",
       "2                                    67.535262  \n",
       "3                                          NaN  \n",
       "4                                          NaN  \n",
       "\n",
       "[5 rows x 50 columns]"
      ]
     },
     "execution_count": 8,
     "metadata": {},
     "output_type": "execute_result"
    }
   ],
   "source": [
    "df.head()"
   ]
  },
  {
   "cell_type": "code",
   "execution_count": 9,
   "id": "01f728f8-5c2f-48ff-ba17-fb97dddf90ff",
   "metadata": {},
   "outputs": [],
   "source": [
    "df = df.fillna(0)"
   ]
  },
  {
   "cell_type": "code",
   "execution_count": 12,
   "id": "1a91c9d8-c355-4bf7-89df-9cd9de69bb23",
   "metadata": {},
   "outputs": [
    {
     "data": {
      "text/plain": [
       "['ENSG00000000419[1,1,1]',\n",
       " 'ENSG00000000419[1,22,1]',\n",
       " 'ENSG00000001084[12,15,1]',\n",
       " 'ENSG00000001630ENSG00000285772.1ENSG00000289027.1[2,1,1]',\n",
       " 'ENSG00000001630[1,1,9]']"
      ]
     },
     "execution_count": 12,
     "metadata": {},
     "output_type": "execute_result"
    }
   ],
   "source": [
    "df.annot_transcript_id.tolist()[:5]"
   ]
  },
  {
   "cell_type": "code",
   "execution_count": 13,
   "id": "88c65eaa-f957-429c-8bab-db2a6a5240a4",
   "metadata": {},
   "outputs": [],
   "source": [
    "# how many transcripts have multiple genes assigned to\n",
    "df['gene_count'] = df.annot_transcript_id.str.count('ENSG')"
   ]
  },
  {
   "cell_type": "code",
   "execution_count": 15,
   "id": "e16b0489-3084-425a-bf82-803968738bac",
   "metadata": {},
   "outputs": [
    {
     "data": {
      "text/plain": [
       "<seaborn.axisgrid.FacetGrid at 0x7fc0e1307f50>"
      ]
     },
     "execution_count": 15,
     "metadata": {},
     "output_type": "execute_result"
    },
    {
     "data": {
      "image/png": "[encoded data removed]",
      "text/plain": [
       "<Figure size 360x360 with 1 Axes>"
      ]
     },
     "metadata": {
      "needs_background": "light"
     },
     "output_type": "display_data"
    }
   ],
   "source": [
    "import seaborn as sns\n",
    "sns.displot(data=df, x='gene_count')"
   ]
  },
  {
   "cell_type": "code",
   "execution_count": 16,
   "id": "9d0b6bff-a93b-447d-930e-5157d9fa6fde",
   "metadata": {},
   "outputs": [
    {
     "name": "stdout",
     "output_type": "stream",
     "text": [
      "64569\n",
      "643737\n"
     ]
    }
   ],
   "source": [
    "print(len(df.loc[df.gene_count>1].index))\n",
    "print(len(df.index))"
   ]
  },
  {
   "cell_type": "code",
   "execution_count": 17,
   "id": "a5afe6cd-30a4-4a41-8f0b-97bcde3174a2",
   "metadata": {},
   "outputs": [
    {
     "data": {
      "text/plain": [
       "0.10030338476738171"
      ]
     },
     "execution_count": 17,
     "metadata": {},
     "output_type": "execute_result"
    }
   ],
   "source": [
    "64569/643737"
   ]
  },
  {
   "cell_type": "code",
   "execution_count": null,
   "id": "57ca1969-5efe-4de5-86a9-33f68a4967e3",
   "metadata": {},
   "outputs": [],
   "source": [
    "# for each sample, need a list of transcripts that are expressed\n",
    "tid_cols = ['annot_transcript_id', 'annot_transcript_name']"
   ]
  }
 ],
 "metadata": {
  "kernelspec": {
   "display_name": "Python 3",
   "language": "python",
   "name": "python3"
  },
  "language_info": {
   "codemirror_mode": {
    "name": "ipython",
    "version": 3
   },
   "file_extension": ".py",
   "mimetype": "text/x-python",
   "name": "python",
   "nbconvert_exporter": "python",
   "pygments_lexer": "ipython3",
   "version": "3.7.12"
  }
 },
 "nbformat": 4,
 "nbformat_minor": 5
}
