{
 "cells": [
  {
   "cell_type": "code",
   "execution_count": 1,
   "id": "ccc5f97d-8df1-4edf-89ac-4d549767b2be",
   "metadata": {},
   "outputs": [],
   "source": [
    "import pandas as pd\n",
    "import cerberus\n",
    "import numpy as np\n",
    "import seaborn as sns\n",
    "import matplotlib.pyplot as plt\n",
    "import matplotlib as mpl"
   ]
  },
  {
   "cell_type": "code",
   "execution_count": 17,
   "id": "eac39d01-bba8-4541-bae9-d2a4be5832e9",
   "metadata": {},
   "outputs": [],
   "source": [
    "species = 'human'\n",
    "subset = 'all'\n",
    "gene_subset = 'lncRNA'"
   ]
  },
  {
   "cell_type": "code",
   "execution_count": 11,
   "id": "e931db2a-fe22-41cf-a4d0-620e709014b9",
   "metadata": {},
   "outputs": [],
   "source": [
    "def parse_meta(species):\n",
    "    df = pd.read_csv(f'data/{species}/metadata.tsv', sep='\\t')\n",
    "    df['species'] = species\n",
    "    df['subset'] = subset\n",
    "    df['dataset'] = df['tissue']+'_'+\\\n",
    "                 df['age']+'_'+\\\n",
    "                 df['platform']+'_'+\\\n",
    "                 df['capture']+'_'+\\\n",
    "                 df['species']+'_'+\\\n",
    "                 df['subset']\n",
    "    \n",
    "    return df"
   ]
  },
  {
   "cell_type": "markdown",
   "id": "281c181b-fc05-4671-9438-fcd82494c3cd",
   "metadata": {},
   "source": [
    "## Look at lncRNA diversity before and after capture"
   ]
  },
  {
   "cell_type": "code",
   "execution_count": null,
   "id": "b34a8b9b-c7ca-4954-a685-94fcda77dc65",
   "metadata": {},
   "outputs": [],
   "source": [
    "species = 'human'\n",
    "obs_col = 'capture'\n",
    "min_tpm = 1\n",
    "\n",
    "ca = cerberus.read(f'data/{species}/cerberus/ca_trip.h5')\n",
    "df = pd.read_csv(f'data/{species}/cerberus/agg_ab.tsv', sep='\\t')\n",
    "\n",
    "# filter on biotype\n",
    "g_df = pd.read_csv('ref/human/annot_g_info.tsv', sep='\\t')\n",
    "g_df['gid_stable'] = cerberus.get_stable_gid(g_df, 'gid')\n",
    "g_df = g_df.loc[g_df.biotype_category==gene_subset]\n",
    "df['gid'] = df.annot_transcript_id.str.split('[', expand=True)[0]\n",
    "print(len(df.index))\n",
    "df = df.loc[df.gid.isin(g_df.gid_stable)]\n",
    "print(len(df.index))\n",
    "df.drop('gid', axis=1, inplace=True)\n",
    "\n",
    "df.drop('annot_transcript_name', axis=1, inplace=True)\n",
    "df.set_index('annot_transcript_id', inplace=True)\n",
    "df = df.transpose()\n",
    "df = df.fillna(0)\n",
    "meta = parse_meta(species)\n",
    "meta_cols = meta.columns\n",
    "\n",
    "df = df.merge(meta, how='left', left_index=True, right_on='dataset')\n",
    "df.drop([c for c in meta_cols if c != obs_col], axis=1, inplace=True)\n",
    "\n",
    "# groupby and take max tpm value per thing\n",
    "df = df.groupby('capture').max().reset_index()\n",
    "\n",
    "# loop through the different conditions\n",
    "trip = pd.DataFrame()\n",
    "for obs_cond in df[obs_col].unique():\n",
    "    print()\n",
    "    print(f'{obs_col}={obs_cond}')\n",
    "    source = f'{obs_col}_{obs_cond}'\n",
    "    temp = df.loc[df[obs_col] == obs_cond].copy(deep=True)\n",
    "    temp = temp.drop(obs_col, axis=1).transpose()\n",
    "    temp.columns = ['max_tpm']\n",
    "    if DEBUG: print(len(temp.index))\n",
    "    temp = temp.loc[temp.max_tpm >= min_tpm]\n",
    "    if DEBUG: print(f'{len(temp.index)}\\n')\n",
    "    tids = temp.index.tolist()\n",
    "    import pdb; pdb.set_trace()\n",
    "    temp_trip = ca.get_subset_triplets(tids, source)\n",
    "    _ = plot_feats_per_gene(temp_trip,\n",
    "                            obs_cond,\n",
    "                            max_ends=10)\n",
    "    trip = pd.concat([trip, temp_trip], axis=0)"
   ]
  },
  {
   "cell_type": "code",
   "execution_count": null,
   "id": "c8375795-20c3-459e-bb6b-09bdce217911",
   "metadata": {},
   "outputs": [],
   "source": []
  },
  {
   "cell_type": "code",
   "execution_count": null,
   "id": "82d9a434-1948-48c9-a9e9-562bc1dbffa9",
   "metadata": {},
   "outputs": [],
   "source": []
  }
 ],
 "metadata": {
  "kernelspec": {
   "display_name": "Python 3",
   "language": "python",
   "name": "python3"
  },
  "language_info": {
   "codemirror_mode": {
    "name": "ipython",
    "version": 3
   },
   "file_extension": ".py",
   "mimetype": "text/x-python",
   "name": "python",
   "nbconvert_exporter": "python",
   "pygments_lexer": "ipython3",
   "version": "3.7.12"
  }
 },
 "nbformat": 4,
 "nbformat_minor": 5
}
